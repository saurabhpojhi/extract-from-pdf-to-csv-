{
  "nbformat": 4,
  "nbformat_minor": 0,
  "metadata": {
    "colab": {
      "name": "pdftocsv.ipynb",
      "provenance": [],
      "collapsed_sections": []
    },
    "kernelspec": {
      "name": "python3",
      "display_name": "Python 3"
    },
    "language_info": {
      "name": "python"
    }
  },
  "cells": [
    {
      "cell_type": "code",
      "metadata": {
        "colab": {
          "base_uri": "https://localhost:8080/"
        },
        "id": "gsujxBxr4dKJ",
        "outputId": "8e6630ce-fd5d-4a0b-ba43-f09f0bec7deb"
      },
      "source": [
        "!java -version"
      ],
      "execution_count": 88,
      "outputs": [
        {
          "output_type": "stream",
          "name": "stdout",
          "text": [
            "openjdk version \"11.0.11\" 2021-04-20\n",
            "OpenJDK Runtime Environment (build 11.0.11+9-Ubuntu-0ubuntu2.18.04)\n",
            "OpenJDK 64-Bit Server VM (build 11.0.11+9-Ubuntu-0ubuntu2.18.04, mixed mode, sharing)\n"
          ]
        }
      ]
    },
    {
      "cell_type": "code",
      "metadata": {
        "id": "br-Bijl246cp"
      },
      "source": [
        "!pip install -q tabula-py"
      ],
      "execution_count": 89,
      "outputs": []
    },
    {
      "cell_type": "code",
      "metadata": {
        "id": "pm0HfF9W5CvV"
      },
      "source": [
        "import tabula\n",
        "import pandas as pd\n",
        "import matplotlib.pyplot as plt\n",
        "%matplotlib inline"
      ],
      "execution_count": 90,
      "outputs": []
    },
    {
      "cell_type": "code",
      "metadata": {
        "colab": {
          "base_uri": "https://localhost:8080/"
        },
        "id": "tMS0T1O85FLg",
        "outputId": "bdbf22f3-9478-4b1e-fa1a-a343acdf5177"
      },
      "source": [
        "tabula.environment_info()"
      ],
      "execution_count": 91,
      "outputs": [
        {
          "output_type": "stream",
          "name": "stdout",
          "text": [
            "Python version:\n",
            "    3.7.11 (default, Jul  3 2021, 18:01:19) \n",
            "[GCC 7.5.0]\n",
            "Java version:\n",
            "    openjdk version \"11.0.11\" 2021-04-20\n",
            "OpenJDK Runtime Environment (build 11.0.11+9-Ubuntu-0ubuntu2.18.04)\n",
            "OpenJDK 64-Bit Server VM (build 11.0.11+9-Ubuntu-0ubuntu2.18.04, mixed mode, sharing)\n",
            "tabula-py version: 2.3.0\n",
            "platform: Linux-5.4.104+-x86_64-with-Ubuntu-18.04-bionic\n",
            "uname:\n",
            "    uname_result(system='Linux', node='d3c3e5be7d16', release='5.4.104+', version='#1 SMP Sat Jun 5 09:50:34 PDT 2021', machine='x86_64', processor='x86_64')\n",
            "linux_distribution: ('Ubuntu', '18.04', 'bionic')\n",
            "mac_ver: ('', ('', '', ''), '')\n",
            "    \n"
          ]
        }
      ]
    },
    {
      "cell_type": "code",
      "metadata": {
        "id": "KOyMgiPz5KLm"
      },
      "source": [
        "pdf_path = \"/content/tcs.pdf\"\n"
      ],
      "execution_count": 92,
      "outputs": []
    },
    {
      "cell_type": "code",
      "metadata": {
        "colab": {
          "base_uri": "https://localhost:8080/"
        },
        "id": "IxhUCVl05VJu",
        "outputId": "e9b58977-4dea-4cf2-a2ba-617aa19daa27"
      },
      "source": [
        "dfs = tabula.read_pdf(\"/content/tcs.pdf\", pages=7)"
      ],
      "execution_count": 93,
      "outputs": [
        {
          "output_type": "stream",
          "name": "stderr",
          "text": [
            "Got stderr: Sep 06, 2021 1:23:24 PM org.apache.pdfbox.pdmodel.font.PDType1Font <init>\n",
            "WARNING: Using fallback font LiberationSans for base font Symbol\n",
            "Sep 06, 2021 1:23:24 PM org.apache.pdfbox.pdmodel.font.PDType1Font <init>\n",
            "WARNING: Using fallback font LiberationSans for base font ZapfDingbats\n",
            "\n"
          ]
        }
      ]
    },
    {
      "cell_type": "markdown",
      "metadata": {
        "id": "DTR0DZqxBiMx"
      },
      "source": [
        ""
      ]
    },
    {
      "cell_type": "code",
      "metadata": {
        "colab": {
          "base_uri": "https://localhost:8080/",
          "height": 1000
        },
        "id": "l0Tif4aF_aYq",
        "outputId": "00fe944d-4ab8-4001-e7b7-6cff8de0bfe4"
      },
      "source": [
        "print(len(dfs))\n",
        "dfs[0]"
      ],
      "execution_count": 94,
      "outputs": [
        {
          "output_type": "stream",
          "name": "stdout",
          "text": [
            "1\n"
          ]
        },
        {
          "output_type": "execute_result",
          "data": {
            "text/html": [
              "<div>\n",
              "<style scoped>\n",
              "    .dataframe tbody tr th:only-of-type {\n",
              "        vertical-align: middle;\n",
              "    }\n",
              "\n",
              "    .dataframe tbody tr th {\n",
              "        vertical-align: top;\n",
              "    }\n",
              "\n",
              "    .dataframe thead th {\n",
              "        text-align: right;\n",
              "    }\n",
              "</style>\n",
              "<table border=\"1\" class=\"dataframe\">\n",
              "  <thead>\n",
              "    <tr style=\"text-align: right;\">\n",
              "      <th></th>\n",
              "      <th>Unnamed: 0</th>\n",
              "      <th>Three month period ended Nine month period ended</th>\n",
              "      <th>Unnamed: 1</th>\n",
              "      <th>Year ended</th>\n",
              "    </tr>\n",
              "  </thead>\n",
              "  <tbody>\n",
              "    <tr>\n",
              "      <th>0</th>\n",
              "      <td>NaN</td>\n",
              "      <td>December 31, September 30, December 31, Decemb...</td>\n",
              "      <td>NaN</td>\n",
              "      <td>March 31,</td>\n",
              "    </tr>\n",
              "    <tr>\n",
              "      <th>1</th>\n",
              "      <td>NaN</td>\n",
              "      <td>2020 2020 2019 2020 2019</td>\n",
              "      <td>NaN</td>\n",
              "      <td>2020</td>\n",
              "    </tr>\n",
              "    <tr>\n",
              "      <th>2</th>\n",
              "      <td>Revenue</td>\n",
              "      <td>42,015 40,135 39,854 120,472 117,003</td>\n",
              "      <td>NaN</td>\n",
              "      <td>156,949</td>\n",
              "    </tr>\n",
              "    <tr>\n",
              "      <th>3</th>\n",
              "      <td>Other income</td>\n",
              "      <td>691 914 818 2,203 3,854</td>\n",
              "      <td>NaN</td>\n",
              "      <td>4,592</td>\n",
              "    </tr>\n",
              "    <tr>\n",
              "      <th>4</th>\n",
              "      <td>TOTAL INCOME</td>\n",
              "      <td>42,706 41,049 40,67Z 122,675 120,857</td>\n",
              "      <td>NaN</td>\n",
              "      <td>161,541</td>\n",
              "    </tr>\n",
              "    <tr>\n",
              "      <th>5</th>\n",
              "      <td>Expenses</td>\n",
              "      <td>NaN</td>\n",
              "      <td>NaN</td>\n",
              "      <td>NaN</td>\n",
              "    </tr>\n",
              "    <tr>\n",
              "      <th>6</th>\n",
              "      <td>Employee benefit expenses</td>\n",
              "      <td>23,431 22,665 21,622 68,189 63,901</td>\n",
              "      <td>NaN</td>\n",
              "      <td>85,952</td>\n",
              "    </tr>\n",
              "    <tr>\n",
              "      <th>7</th>\n",
              "      <td>Fees to external consultants</td>\n",
              "      <td>9,741 . 3,230 3,047 3,268 9,340</td>\n",
              "      <td>NaN</td>\n",
              "      <td>12,937</td>\n",
              "    </tr>\n",
              "    <tr>\n",
              "      <th>8</th>\n",
              "      <td>Cost of equipment and software licences</td>\n",
              "      <td>.. 396 266 460 1,008 1,436</td>\n",
              "      <td>NaN</td>\n",
              "      <td>1,905</td>\n",
              "    </tr>\n",
              "    <tr>\n",
              "      <th>9</th>\n",
              "      <td>Depreciation and amortisation expense</td>\n",
              "      <td>1,024 998 897 2,998 2,578</td>\n",
              "      <td>NaN</td>\n",
              "      <td>3,529</td>\n",
              "    </tr>\n",
              "    <tr>\n",
              "      <th>10</th>\n",
              "      <td>Other operating expenses</td>\n",
              "      <td>2,750 2,644 3,633 8,190 10,792</td>\n",
              "      <td>NaN</td>\n",
              "      <td>14,046</td>\n",
              "    </tr>\n",
              "    <tr>\n",
              "      <th>11</th>\n",
              "      <td>'TOTAL EXPENSES</td>\n",
              "      <td>30,831 29,620 29,880 89,7Z5 88,448</td>\n",
              "      <td>NaN</td>\n",
              "      <td>118,369</td>\n",
              "    </tr>\n",
              "    <tr>\n",
              "      <th>12</th>\n",
              "      <td>PROFIT BEFORE FINANCE COSTS, EXCEPTIONAL ITEM ...</td>\n",
              "      <td>11,875 11,429 10,792 32,950 32,409</td>\n",
              "      <td>NaN</td>\n",
              "      <td>43,172</td>\n",
              "    </tr>\n",
              "    <tr>\n",
              "      <th>13</th>\n",
              "      <td>Finance costs</td>\n",
              "      <td>183 174 223 499 673</td>\n",
              "      <td>NaN</td>\n",
              "      <td>924</td>\n",
              "    </tr>\n",
              "    <tr>\n",
              "      <th>14</th>\n",
              "      <td>PROFIT BEFORE EXCEPTIONALITEM AND TAX</td>\n",
              "      <td>11,692 11,255 10,569 32,451 31,736</td>\n",
              "      <td>NaN</td>\n",
              "      <td>42,248</td>\n",
              "    </tr>\n",
              "    <tr>\n",
              "      <th>15</th>\n",
              "      <td>Exceptional Item {Refer note 2)</td>\n",
              "      <td>NaN</td>\n",
              "      <td>NaN</td>\n",
              "      <td>NaN</td>\n",
              "    </tr>\n",
              "    <tr>\n",
              "      <th>16</th>\n",
              "      <td>Provision towards legal claim</td>\n",
              "      <td>1,218 1,218 .</td>\n",
              "      <td>NaN</td>\n",
              "      <td>NaN</td>\n",
              "    </tr>\n",
              "    <tr>\n",
              "      <th>17</th>\n",
              "      <td>PROFIT BEFORE TAX</td>\n",
              "      <td>11,692 10,037 10,569 31,233 31,736</td>\n",
              "      <td>NaN</td>\n",
              "      <td>42,248</td>\n",
              "    </tr>\n",
              "    <tr>\n",
              "      <th>18</th>\n",
              "      <td>Tax expense</td>\n",
              "      <td>NaN</td>\n",
              "      <td>NaN</td>\n",
              "      <td>NaN</td>\n",
              "    </tr>\n",
              "    <tr>\n",
              "      <th>19</th>\n",
              "      <td>Current tax</td>\n",
              "      <td>3,242 2,849 2,981 8,756 7,702</td>\n",
              "      <td>NaN</td>\n",
              "      <td>10,378</td>\n",
              "    </tr>\n",
              "    <tr>\n",
              "      <th>20</th>\n",
              "      <td>peferred tax</td>\n",
              "      <td>(277] (316) (555) (803) (320)</td>\n",
              "      <td>NaN</td>\n",
              "      <td>{577)</td>\n",
              "    </tr>\n",
              "    <tr>\n",
              "      <th>21</th>\n",
              "      <td>TOTAL TAX EXPENSE</td>\n",
              "      <td>2,965 2,533 2,426 7, 953 7, 382</td>\n",
              "      <td>NaN</td>\n",
              "      <td>9,801</td>\n",
              "    </tr>\n",
              "    <tr>\n",
              "      <th>22</th>\n",
              "      <td>PROFIT FOR THE PERIOD</td>\n",
              "      <td>8,7Z7 7,504 8,143 23,280 24,354</td>\n",
              "      <td>NaN</td>\n",
              "      <td>32,447</td>\n",
              "    </tr>\n",
              "    <tr>\n",
              "      <th>23</th>\n",
              "      <td>Profit for the period attributable to:</td>\n",
              "      <td>NaN</td>\n",
              "      <td>NaN</td>\n",
              "      <td>NaN</td>\n",
              "    </tr>\n",
              "    <tr>\n",
              "      <th>24</th>\n",
              "      <td>Shareholders of the Company</td>\n",
              "      <td>8,701 7,475 8,118 23,184 24,291</td>\n",
              "      <td>NaN</td>\n",
              "      <td>32,340</td>\n",
              "    </tr>\n",
              "    <tr>\n",
              "      <th>25</th>\n",
              "      <td>Non-controlling interests</td>\n",
              "      <td>26 29 25 96 63</td>\n",
              "      <td>NaN</td>\n",
              "      <td>107</td>\n",
              "    </tr>\n",
              "    <tr>\n",
              "      <th>26</th>\n",
              "      <td>OTHER COMPREHENSIVE INCOME (OCI)</td>\n",
              "      <td>NaN</td>\n",
              "      <td>NaN</td>\n",
              "      <td>NaN</td>\n",
              "    </tr>\n",
              "    <tr>\n",
              "      <th>27</th>\n",
              "      <td>Items that will not be reclassified subsequent...</td>\n",
              "      <td>(184) (62) (228) (110} (~67)</td>\n",
              "      <td>NaN</td>\n",
              "      <td>{449)</td>\n",
              "    </tr>\n",
              "    <tr>\n",
              "      <th>28</th>\n",
              "      <td>NaN</td>\n",
              "      <td>39 63 10 73</td>\n",
              "      <td>NaN</td>\n",
              "      <td>90</td>\n",
              "    </tr>\n",
              "    <tr>\n",
              "      <th>29</th>\n",
              "      <td>Income tax on items that will not be reclassif...</td>\n",
              "      <td>NaN</td>\n",
              "      <td>NaN</td>\n",
              "      <td>NaN</td>\n",
              "    </tr>\n",
              "    <tr>\n",
              "      <th>30</th>\n",
              "      <td>Items that will be reclassified subsequently t...</td>\n",
              "      <td>631 (129) 122 1,397 560</td>\n",
              "      <td>NaN</td>\n",
              "      <td>1,138</td>\n",
              "    </tr>\n",
              "    <tr>\n",
              "      <th>31</th>\n",
              "      <td>NaN</td>\n",
              "      <td>(71) 73 44 (224) (137)</td>\n",
              "      <td>NaN</td>\n",
              "      <td>(315)</td>\n",
              "    </tr>\n",
              "    <tr>\n",
              "      <th>32</th>\n",
              "      <td>Income tax on items that will be reclassified ...</td>\n",
              "      <td>NaN</td>\n",
              "      <td>NaN</td>\n",
              "      <td>NaN</td>\n",
              "    </tr>\n",
              "    <tr>\n",
              "      <th>33</th>\n",
              "      <td>TOTAL OTHER COMPREHENSIVE INCOME/ (LOSSESI</td>\n",
              "      <td>415 (118 1 1,073 129</td>\n",
              "      <td>NaN</td>\n",
              "      <td>464</td>\n",
              "    </tr>\n",
              "    <tr>\n",
              "      <th>34</th>\n",
              "      <td>TOTAL COMPREHENSIVE INCOME FOR THE PERIOD</td>\n",
              "      <td>9,142 7, 386 8,144 24,353 24,483</td>\n",
              "      <td>NaN</td>\n",
              "      <td>32,911</td>\n",
              "    </tr>\n",
              "    <tr>\n",
              "      <th>35</th>\n",
              "      <td>Total comprehensive income for the period attr...</td>\n",
              "      <td>NaN</td>\n",
              "      <td>NaN</td>\n",
              "      <td>NaN</td>\n",
              "    </tr>\n",
              "    <tr>\n",
              "      <th>36</th>\n",
              "      <td>Shareholders of the Company</td>\n",
              "      <td>9,109 7,358 8,117 24,248 24,405</td>\n",
              "      <td>NaN</td>\n",
              "      <td>32,764</td>\n",
              "    </tr>\n",
              "    <tr>\n",
              "      <th>37</th>\n",
              "      <td>Non-controlling interests .</td>\n",
              "      <td>33 28 27 105 78</td>\n",
              "      <td>NaN</td>\n",
              "      <td>147</td>\n",
              "    </tr>\n",
              "    <tr>\n",
              "      <th>38</th>\n",
              "      <td>Paid up equity share capital</td>\n",
              "      <td>375 375 375 375 375</td>\n",
              "      <td>NaN</td>\n",
              "      <td>375</td>\n",
              "    </tr>\n",
              "    <tr>\n",
              "      <th>39</th>\n",
              "      <td>(Face Value: n per share)</td>\n",
              "      <td>NaN</td>\n",
              "      <td>NaN</td>\n",
              "      <td>NaN</td>\n",
              "    </tr>\n",
              "    <tr>\n",
              "      <th>40</th>\n",
              "      <td>Total Reserves (Including Non-controlling Inte...</td>\n",
              "      <td>NaN</td>\n",
              "      <td>NaN</td>\n",
              "      <td>84,374</td>\n",
              "    </tr>\n",
              "    <tr>\n",
              "      <th>41</th>\n",
              "      <td>Earnings per equity share:- Baslc and diluted(~)</td>\n",
              "      <td>23.19 19.93 21.63 61.79 64.74</td>\n",
              "      <td>NaN</td>\n",
              "      <td>8619</td>\n",
              "    </tr>\n",
              "    <tr>\n",
              "      <th>42</th>\n",
              "      <td>Dividend per share (Par value ,1 each)</td>\n",
              "      <td>NaN</td>\n",
              "      <td>NaN</td>\n",
              "      <td>NaN</td>\n",
              "    </tr>\n",
              "    <tr>\n",
              "      <th>43</th>\n",
              "      <td>Interim dividend on equity shares (t)</td>\n",
              "      <td>6.00 12.00 5.00 23.00 55.00</td>\n",
              "      <td>NaN</td>\n",
              "      <td>67.00</td>\n",
              "    </tr>\n",
              "    <tr>\n",
              "      <th>44</th>\n",
              "      <td>Final dividend on equity shares (t)</td>\n",
              "      <td>NaN</td>\n",
              "      <td>NaN</td>\n",
              "      <td>6.00</td>\n",
              "    </tr>\n",
              "    <tr>\n",
              "      <th>45</th>\n",
              "      <td>Total dividend on equity shares(~)</td>\n",
              "      <td>6.00 12.00 5.00 23.00 55.00</td>\n",
              "      <td>NaN</td>\n",
              "      <td>73.00</td>\n",
              "    </tr>\n",
              "    <tr>\n",
              "      <th>46</th>\n",
              "      <td>Total equity dividend percentage</td>\n",
              "      <td>600 1,200 500 2,300 5,500</td>\n",
              "      <td>NaN</td>\n",
              "      <td>7,300</td>\n",
              "    </tr>\n",
              "  </tbody>\n",
              "</table>\n",
              "</div>"
            ],
            "text/plain": [
              "                                           Unnamed: 0  ... Year ended\n",
              "0                                                 NaN  ...  March 31,\n",
              "1                                                 NaN  ...       2020\n",
              "2                                             Revenue  ...    156,949\n",
              "3                                        Other income  ...      4,592\n",
              "4                                        TOTAL INCOME  ...    161,541\n",
              "5                                            Expenses  ...        NaN\n",
              "6                           Employee benefit expenses  ...     85,952\n",
              "7                        Fees to external consultants  ...     12,937\n",
              "8             Cost of equipment and software licences  ...      1,905\n",
              "9               Depreciation and amortisation expense  ...      3,529\n",
              "10                           Other operating expenses  ...     14,046\n",
              "11                                    'TOTAL EXPENSES  ...    118,369\n",
              "12  PROFIT BEFORE FINANCE COSTS, EXCEPTIONAL ITEM ...  ...     43,172\n",
              "13                                      Finance costs  ...        924\n",
              "14              PROFIT BEFORE EXCEPTIONALITEM AND TAX  ...     42,248\n",
              "15                    Exceptional Item {Refer note 2)  ...        NaN\n",
              "16                      Provision towards legal claim  ...        NaN\n",
              "17                                  PROFIT BEFORE TAX  ...     42,248\n",
              "18                                        Tax expense  ...        NaN\n",
              "19                                        Current tax  ...     10,378\n",
              "20                                       peferred tax  ...      {577)\n",
              "21                                  TOTAL TAX EXPENSE  ...      9,801\n",
              "22                              PROFIT FOR THE PERIOD  ...     32,447\n",
              "23             Profit for the period attributable to:  ...        NaN\n",
              "24                        Shareholders of the Company  ...     32,340\n",
              "25                          Non-controlling interests  ...        107\n",
              "26                   OTHER COMPREHENSIVE INCOME (OCI)  ...        NaN\n",
              "27  Items that will not be reclassified subsequent...  ...      {449)\n",
              "28                                                NaN  ...         90\n",
              "29  Income tax on items that will not be reclassif...  ...        NaN\n",
              "30  Items that will be reclassified subsequently t...  ...      1,138\n",
              "31                                                NaN  ...      (315)\n",
              "32  Income tax on items that will be reclassified ...  ...        NaN\n",
              "33         TOTAL OTHER COMPREHENSIVE INCOME/ (LOSSESI  ...        464\n",
              "34          TOTAL COMPREHENSIVE INCOME FOR THE PERIOD  ...     32,911\n",
              "35  Total comprehensive income for the period attr...  ...        NaN\n",
              "36                        Shareholders of the Company  ...     32,764\n",
              "37                        Non-controlling interests .  ...        147\n",
              "38                       Paid up equity share capital  ...        375\n",
              "39                          (Face Value: n per share)  ...        NaN\n",
              "40  Total Reserves (Including Non-controlling Inte...  ...     84,374\n",
              "41   Earnings per equity share:- Baslc and diluted(~)  ...       8619\n",
              "42             Dividend per share (Par value ,1 each)  ...        NaN\n",
              "43              Interim dividend on equity shares (t)  ...      67.00\n",
              "44                Final dividend on equity shares (t)  ...       6.00\n",
              "45                 Total dividend on equity shares(~)  ...      73.00\n",
              "46                   Total equity dividend percentage  ...      7,300\n",
              "\n",
              "[47 rows x 4 columns]"
            ]
          },
          "metadata": {},
          "execution_count": 94
        }
      ]
    },
    {
      "cell_type": "code",
      "metadata": {
        "colab": {
          "base_uri": "https://localhost:8080/"
        },
        "id": "3VnyyoVLAQj0",
        "outputId": "fd944d70-4f3c-4db7-b87b-b05bd174f051"
      },
      "source": [
        " # convert PDF into CSV file\n",
        "\n",
        "tabula.convert_into(\"/content/tcs.pdf\", \"/content/sample_data/output scv/output.csv\", output_format=\"csv\", pages=7)"
      ],
      "execution_count": 95,
      "outputs": [
        {
          "output_type": "stream",
          "name": "stderr",
          "text": [
            "Got stderr: Sep 06, 2021 1:23:29 PM org.apache.pdfbox.pdmodel.font.PDType1Font <init>\n",
            "WARNING: Using fallback font LiberationSans for base font Symbol\n",
            "Sep 06, 2021 1:23:30 PM org.apache.pdfbox.pdmodel.font.PDType1Font <init>\n",
            "WARNING: Using fallback font LiberationSans for base font ZapfDingbats\n",
            "\n"
          ]
        }
      ]
    },
    {
      "cell_type": "code",
      "metadata": {
        "id": "1ieR-L1nB3iu"
      },
      "source": [
        "# load dataset \n",
        "path = r\"/content/sample_data/output scv/output.csv\" \n"
      ],
      "execution_count": 96,
      "outputs": []
    },
    {
      "cell_type": "code",
      "metadata": {
        "id": "Wq28wmQwCvCC"
      },
      "source": [
        "df = pd.read_csv(path)\n"
      ],
      "execution_count": 97,
      "outputs": []
    },
    {
      "cell_type": "code",
      "metadata": {
        "colab": {
          "base_uri": "https://localhost:8080/",
          "height": 204
        },
        "id": "NmglfkomDRF3",
        "outputId": "e917f6e6-f46c-48e1-e7ea-3d2b05c9e0a4"
      },
      "source": [
        "df.head()"
      ],
      "execution_count": 98,
      "outputs": [
        {
          "output_type": "execute_result",
          "data": {
            "text/html": [
              "<div>\n",
              "<style scoped>\n",
              "    .dataframe tbody tr th:only-of-type {\n",
              "        vertical-align: middle;\n",
              "    }\n",
              "\n",
              "    .dataframe tbody tr th {\n",
              "        vertical-align: top;\n",
              "    }\n",
              "\n",
              "    .dataframe thead th {\n",
              "        text-align: right;\n",
              "    }\n",
              "</style>\n",
              "<table border=\"1\" class=\"dataframe\">\n",
              "  <thead>\n",
              "    <tr style=\"text-align: right;\">\n",
              "      <th></th>\n",
              "      <th>Unnamed: 0</th>\n",
              "      <th>Three month period ended Nine month period ended</th>\n",
              "      <th>Unnamed: 2</th>\n",
              "      <th>Year ended</th>\n",
              "    </tr>\n",
              "  </thead>\n",
              "  <tbody>\n",
              "    <tr>\n",
              "      <th>0</th>\n",
              "      <td>NaN</td>\n",
              "      <td>December 31, September 30, December 31, Decemb...</td>\n",
              "      <td>NaN</td>\n",
              "      <td>March 31,</td>\n",
              "    </tr>\n",
              "    <tr>\n",
              "      <th>1</th>\n",
              "      <td>NaN</td>\n",
              "      <td>2020 2020 2019 2020 2019</td>\n",
              "      <td>NaN</td>\n",
              "      <td>2020</td>\n",
              "    </tr>\n",
              "    <tr>\n",
              "      <th>2</th>\n",
              "      <td>Revenue</td>\n",
              "      <td>42,015 40,135 39,854 120,472 117,003</td>\n",
              "      <td>NaN</td>\n",
              "      <td>156,949</td>\n",
              "    </tr>\n",
              "    <tr>\n",
              "      <th>3</th>\n",
              "      <td>Other income</td>\n",
              "      <td>691 914 818 2,203 3,854</td>\n",
              "      <td>NaN</td>\n",
              "      <td>4,592</td>\n",
              "    </tr>\n",
              "    <tr>\n",
              "      <th>4</th>\n",
              "      <td>TOTAL INCOME</td>\n",
              "      <td>42,706 41,049 40,67Z 122,675 120,857</td>\n",
              "      <td>NaN</td>\n",
              "      <td>161,541</td>\n",
              "    </tr>\n",
              "  </tbody>\n",
              "</table>\n",
              "</div>"
            ],
            "text/plain": [
              "     Unnamed: 0  ... Year ended\n",
              "0           NaN  ...  March 31,\n",
              "1           NaN  ...       2020\n",
              "2       Revenue  ...    156,949\n",
              "3  Other income  ...      4,592\n",
              "4  TOTAL INCOME  ...    161,541\n",
              "\n",
              "[5 rows x 4 columns]"
            ]
          },
          "metadata": {},
          "execution_count": 98
        }
      ]
    },
    {
      "cell_type": "code",
      "metadata": {
        "colab": {
          "base_uri": "https://localhost:8080/"
        },
        "id": "SuVX-WjaDVC_",
        "outputId": "215dc5f0-99e6-4bb3-9a8f-dc55bc03a1c4"
      },
      "source": [
        "df.info()"
      ],
      "execution_count": 99,
      "outputs": [
        {
          "output_type": "stream",
          "name": "stdout",
          "text": [
            "<class 'pandas.core.frame.DataFrame'>\n",
            "RangeIndex: 47 entries, 0 to 46\n",
            "Data columns (total 4 columns):\n",
            " #   Column                                            Non-Null Count  Dtype  \n",
            "---  ------                                            --------------  -----  \n",
            " 0   Unnamed: 0                                        43 non-null     object \n",
            " 1   Three month period ended Nine month period ended  35 non-null     object \n",
            " 2   Unnamed: 2                                        0 non-null      float64\n",
            " 3   Year ended                                        36 non-null     object \n",
            "dtypes: float64(1), object(3)\n",
            "memory usage: 1.6+ KB\n"
          ]
        }
      ]
    },
    {
      "cell_type": "code",
      "metadata": {
        "colab": {
          "base_uri": "https://localhost:8080/"
        },
        "id": "XxVJ-BsREPm5",
        "outputId": "137baaee-8d72-40c9-d11a-e06aea762207"
      },
      "source": [
        "df['Three month period ended Nine month period ended'].value_counts()"
      ],
      "execution_count": 100,
      "outputs": [
        {
          "output_type": "execute_result",
          "data": {
            "text/plain": [
              "6.00 12.00 5.00 23.00 55.00                                          2\n",
              "2020 2020 2019 2020 2019                                             1\n",
              "183 174 223 499 673                                                  1\n",
              "30,831 29,620 29,880 89,7Z5 88,448                                   1\n",
              "11,875 11,429 10,792 32,950 32,409                                   1\n",
              "691 914 818 2,203 3,854                                              1\n",
              "23.19 19.93 21.63 61.79 64.74                                        1\n",
              "(71) 73 44 (224) (137)                                               1\n",
              "9,109 7,358 8,117 24,248 24,405                                      1\n",
              "631 (129) 122 1,397 560                                              1\n",
              "11,692 11,255 10,569 32,451 31,736                                   1\n",
              "9,142 7, 386 8,144 24,353 24,483                                     1\n",
              "23,431 22,665 21,622 68,189 63,901                                   1\n",
              "39 63 10 73                                                          1\n",
              "8,701 7,475 8,118 23,184 24,291                                      1\n",
              "415 (118 1 1,073 129                                                 1\n",
              "11,692 10,037 10,569 31,233 31,736                                   1\n",
              "1,024 998 897 2,998 2,578                                            1\n",
              "8,7Z7 7,504 8,143 23,280 24,354                                      1\n",
              "December 31, September 30, December 31, December 31, December 31.    1\n",
              ".. 396 266 460 1,008 1,436                                           1\n",
              "375 375 375 375 375                                                  1\n",
              "3,242 2,849 2,981 8,756 7,702                                        1\n",
              "2,965 2,533 2,426 7, 953 7, 382                                      1\n",
              "33 28 27 105 78                                                      1\n",
              "(184) (62) (228) (110} (~67)                                         1\n",
              "2,750 2,644 3,633 8,190 10,792                                       1\n",
              "42,706 41,049 40,67Z 122,675 120,857                                 1\n",
              "600 1,200 500 2,300 5,500                                            1\n",
              "1,218 1,218 .                                                        1\n",
              "(277] (316) (555) (803) (320)                                        1\n",
              "42,015 40,135 39,854 120,472 117,003                                 1\n",
              "26 29 25 96 63                                                       1\n",
              "9,741 . 3,230 3,047 3,268 9,340                                      1\n",
              "Name: Three month period ended Nine month period ended, dtype: int64"
            ]
          },
          "metadata": {},
          "execution_count": 100
        }
      ]
    },
    {
      "cell_type": "code",
      "metadata": {
        "colab": {
          "base_uri": "https://localhost:8080/"
        },
        "id": "Q64aWXyHE6hE",
        "outputId": "fd3b6f44-9d58-4dec-b9f7-1e670ebce788"
      },
      "source": [
        "df.isnull().sum()"
      ],
      "execution_count": 101,
      "outputs": [
        {
          "output_type": "execute_result",
          "data": {
            "text/plain": [
              "Unnamed: 0                                           4\n",
              "Three month period ended Nine month period ended    12\n",
              "Unnamed: 2                                          47\n",
              "Year ended                                          11\n",
              "dtype: int64"
            ]
          },
          "metadata": {},
          "execution_count": 101
        }
      ]
    },
    {
      "cell_type": "code",
      "metadata": {
        "colab": {
          "base_uri": "https://localhost:8080/",
          "height": 641
        },
        "id": "tHFLP2FiGawu",
        "outputId": "a3a085a7-b0b1-4271-d135-f83bf31bc59f"
      },
      "source": [
        "df.hist(bins=25,figsize=(10,10))"
      ],
      "execution_count": 102,
      "outputs": [
        {
          "output_type": "execute_result",
          "data": {
            "text/plain": [
              "array([[<matplotlib.axes._subplots.AxesSubplot object at 0x7f0a72a84a50>]],\n",
              "      dtype=object)"
            ]
          },
          "metadata": {},
          "execution_count": 102
        },
        {
          "output_type": "display_data",
          "data": {
            "image/png": "[encoded data removed]",
            "text/plain": [
              "<Figure size 720x720 with 1 Axes>"
            ]
          },
          "metadata": {
            "needs_background": "light"
          }
        }
      ]
    }
  ]
}